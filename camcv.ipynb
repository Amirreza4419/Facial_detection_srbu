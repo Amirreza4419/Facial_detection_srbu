{
 "cells": [
  {
   "cell_type": "code",
   "execution_count": 1,
   "id": "dedf67ff-6a62-4d8b-a5d1-74ac0ca86ed6",
   "metadata": {},
   "outputs": [],
   "source": [
    "import cv2\n",
    "import sys\n",
    "\n"
   ]
  },
  {
   "cell_type": "code",
   "execution_count": 3,
   "id": "77319d9e-7406-4743-aae2-93230adfea2b",
   "metadata": {},
   "outputs": [],
   "source": [
    "source = cv2.VideoCapture(0)\n",
    "\n",
    "if not source.isOpened():\n",
    "    print(\"error\")\n",
    "else:\n",
    "    win_name = 'camera'\n",
    "    cv2.namedWindow(win_name , cv2.WINDOW_NORMAL)\n",
    "    while True :\n",
    "        has_frame , frame = source.read()\n",
    "        if not has_frame :\n",
    "            print(\"errror\")\n",
    "            break\n",
    "        cv2.imshow(win_name , frame)\n",
    "        if cv2.waitKey(1) == 27:\n",
    "            break\n",
    "\n",
    "    source.release()\n",
    "    cv2.destroyWindow(win_name)\n",
    "\n",
    "\n",
    "\n",
    "\n"
   ]
  },
  {
   "cell_type": "code",
   "execution_count": null,
   "id": "0f89c57c-7499-4fd3-a7ba-fcb36d2fd41b",
   "metadata": {},
   "outputs": [],
   "source": []
  },
  {
   "cell_type": "code",
   "execution_count": null,
   "id": "ebfbf16c-8dc2-4a18-a631-936534b036ce",
   "metadata": {},
   "outputs": [],
   "source": []
  },
  {
   "cell_type": "code",
   "execution_count": null,
   "id": "ee2826fd-75a5-4e4e-b102-8e079ca691ae",
   "metadata": {},
   "outputs": [],
   "source": []
  },
  {
   "cell_type": "code",
   "execution_count": null,
   "id": "e3ab9600-23e9-4faf-a8ae-8849ea3d8a9c",
   "metadata": {},
   "outputs": [],
   "source": []
  }
 ],
 "metadata": {
  "kernelspec": {
   "display_name": "Python 3 (ipykernel)",
   "language": "python",
   "name": "python3"
  },
  "language_info": {
   "codemirror_mode": {
    "name": "ipython",
    "version": 3
   },
   "file_extension": ".py",
   "mimetype": "text/x-python",
   "name": "python",
   "nbconvert_exporter": "python",
   "pygments_lexer": "ipython3",
   "version": "3.12.7"
  }
 },
 "nbformat": 4,
 "nbformat_minor": 5
}
